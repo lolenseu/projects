{
 "cells": [
  {
   "cell_type": "code",
   "execution_count": null,
   "metadata": {},
   "outputs": [],
   "source": [
    "def hello1(): # Function without a return statement\n",
    "    print(\"Hello! I love to code in Python.\")\n",
    "\n",
    "def hello2(): # Function with a return statement\n",
    "    return \"Hello! I love to code in Python.\"\n",
    "    # Return commands returns back the control to the caller.\n",
    "    # Mainly used to return a value to the caller of the function.\n",
    "\n",
    "hello1()\n",
    "print(hello2())"
   ]
  },
  {
   "cell_type": "code",
   "execution_count": null,
   "metadata": {},
   "outputs": [],
   "source": [
    "def myAddition(x, y):\n",
    "    print(\"Performing the addition operation...\")\n",
    "    return (x + y)\n",
    "\n",
    "def mySubtraction(x, y):\n",
    "    print(\"Performing the subtraction operation...\")\n",
    "    return (x - y)\n",
    "\n",
    "def myMultiplication(x, y):\n",
    "    print(\"Performing the multiplication operation...\")\n",
    "    return (x * y)\n",
    "\n",
    "def myDivision(x, y):\n",
    "    print(\"Performing the division operation...\")\n",
    "    return (x / y)\n",
    "\n",
    "def myMenu():\n",
    "    print(\"Main Menu...\")\n",
    "    print(\"1 > Addition operation...\")\n",
    "    print(\"2 > Subtraction operation...\")\n",
    "    print(\"3 > Multiplication operation...\")\n",
    "    print(\"4 > Division operation...\")\n",
    "    ch = int(input(\"Please enter your option number...\"))\n",
    "    return ch\n",
    "\n",
    "def calculation():\n",
    "    ch = myMenu()\n",
    "    num1 = int(input(\"Please enter the first number...\"))\n",
    "    num2 = int(input(\"Please enter the second number...\"))\n",
    "\n",
    "    if ch == 1:\n",
    "        result = myAddition(num1, num2)\n",
    "    elif ch == 2:\n",
    "        result = mySubtraction(num1, num2)\n",
    "    elif ch == 3:\n",
    "        result = myMultiplication(num1, num2)\n",
    "    elif ch == 4:\n",
    "        result = myDivision(num1, num2)\n",
    "\n",
    "    print(\"So result = \", result)\n",
    "\n",
    "calculation()"
   ]
  }
 ],
 "metadata": {
  "kernelspec": {
   "display_name": ".venv",
   "language": "python",
   "name": "python3"
  },
  "language_info": {
   "name": "python",
   "version": "3.12.3"
  }
 },
 "nbformat": 4,
 "nbformat_minor": 2
}
