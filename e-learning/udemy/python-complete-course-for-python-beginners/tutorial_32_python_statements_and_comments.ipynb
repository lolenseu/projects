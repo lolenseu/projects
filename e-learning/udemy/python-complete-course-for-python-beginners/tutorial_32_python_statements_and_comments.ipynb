{
 "cells": [
  {
   "cell_type": "code",
   "execution_count": null,
   "metadata": {},
   "outputs": [],
   "source": [
    "# This is a comment\n",
    "\n",
    "# This is a long comment\n",
    "# and multi-line comments\n",
    "# can be written like this\n",
    "\n",
    "\"\"\"\n",
    "Multi-line comments\n",
    "can also be written like this.\n",
    "\"\"\""
   ]
  },
  {
   "cell_type": "code",
   "execution_count": null,
   "metadata": {},
   "outputs": [],
   "source": [
    "# Statement - Assignment Statement\n",
    "a = 1"
   ]
  },
  {
   "cell_type": "code",
   "execution_count": null,
   "metadata": {},
   "outputs": [],
   "source": [
    "# Multiline Statement\n",
    "# Explicit line continuation - '\\'\n",
    "b = 1 + 2 + 3 + \\\n",
    "    4 + 5 + 6\n",
    "\n",
    "# Implicit line continuation within brackets\n",
    "c = (1 + 2 + 3 +\n",
    "     4 + 5 + 6)"
   ]
  },
  {
   "cell_type": "code",
   "execution_count": 2,
   "metadata": {},
   "outputs": [],
   "source": [
    "# Multiple statements in one line using - ';'\n",
    "d = 1; e = 3; f = 0"
   ]
  },
  {
   "cell_type": "code",
   "execution_count": null,
   "metadata": {},
   "outputs": [],
   "source": [
    "# Code block (body of a function, Loop etc.) starts with indentation\n",
    "# and ends with the first unindented line.\n",
    "\n",
    "for i in range(1, 10):\n",
    "    print(i)\n",
    "    if i == 5:\n",
    "        break\n",
    "\n",
    "print(\"End of the program...\")"
   ]
  }
 ],
 "metadata": {
  "kernelspec": {
   "display_name": ".venv",
   "language": "python",
   "name": "python3"
  },
  "language_info": {
   "codemirror_mode": {
    "name": "ipython",
    "version": 3
   },
   "file_extension": ".py",
   "mimetype": "text/x-python",
   "name": "python",
   "nbconvert_exporter": "python",
   "pygments_lexer": "ipython3",
   "version": "3.12.3"
  }
 },
 "nbformat": 4,
 "nbformat_minor": 2
}
