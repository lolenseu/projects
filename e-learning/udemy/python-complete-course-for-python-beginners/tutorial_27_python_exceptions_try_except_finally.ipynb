{
 "cells": [
  {
   "cell_type": "code",
   "execution_count": null,
   "metadata": {},
   "outputs": [],
   "source": [
    "# Catching specific exception\n",
    "try:\n",
    "    a = 100\n",
    "    b = 20\n",
    "    c = a / b\n",
    "    print(\"{} / {} = {}\".format(a, b, c))\n",
    "except ZeroDivisionError:\n",
    "    print(\"Division by zero is not possible\")"
   ]
  },
  {
   "cell_type": "code",
   "execution_count": null,
   "metadata": {},
   "outputs": [],
   "source": [
    "# Catching ZeroDivisionError\n",
    "try:\n",
    "    a = 100\n",
    "    b = 0\n",
    "    c = a / b\n",
    "    print(\"{} / {} = {}\".format(a, b, c))\n",
    "except ZeroDivisionError:\n",
    "    print(\"Division by zero is not possible\")"
   ]
  },
  {
   "cell_type": "code",
   "execution_count": null,
   "metadata": {},
   "outputs": [],
   "source": [
    "# Catching ValueError\n",
    "try:\n",
    "    a = int(input(\"Please enter the first number...\"))\n",
    "    b = int(input(\"Please enter the second number...\"))\n",
    "    c = a / b\n",
    "    print(\"{} / {} = {}\".format(a, b, c))\n",
    "except ZeroDivisionError:\n",
    "    print(\"Division by zero is not possible\")\n",
    "except ValueError:\n",
    "    print(\"The data types are not proper\")"
   ]
  },
  {
   "cell_type": "code",
   "execution_count": null,
   "metadata": {},
   "outputs": [],
   "source": [
    "# Catching TypeError\n",
    "try:\n",
    "    a = int(input(\"Please enter the first number...\"))\n",
    "    b = int(input(\"Please enter the second number...\"))\n",
    "    if (a < 0):\n",
    "        raise TypeError\n",
    "    c = a / b\n",
    "    print(\"{} / {} = {}\".format(a, b, c))\n",
    "except ZeroDivisionError:\n",
    "    print(\"Division by zero is not possible\")\n",
    "except ValueError:\n",
    "    print(\"The data types are not proper\")\n",
    "except TypeError:\n",
    "    print(\"The data is not in range\")"
   ]
  },
  {
   "cell_type": "code",
   "execution_count": null,
   "metadata": {},
   "outputs": [],
   "source": [
    "# Catching NameError\n",
    "try:\n",
    "    a = int(input(\"Please enter the first number...\"))\n",
    "    b = int(input(\"Please enter the second number...\"))\n",
    "    if (a < 0):\n",
    "        raise TypeError\n",
    "    c = x / y\n",
    "    print(\"{} / {} = {}\".format(a, b, c))\n",
    "except ZeroDivisionError:\n",
    "    print(\"Division by zero is not possible\")\n",
    "except ValueError:\n",
    "    print(\"The data types are not proper\")\n",
    "except TypeError:\n",
    "    print(\"The data is not in range\")\n",
    "except NameError:\n",
    "    print(\"The data items are not defined\")"
   ]
  }
 ],
 "metadata": {
  "kernelspec": {
   "display_name": ".venv",
   "language": "python",
   "name": "python3"
  },
  "language_info": {
   "codemirror_mode": {
    "name": "ipython",
    "version": 3
   },
   "file_extension": ".py",
   "mimetype": "text/x-python",
   "name": "python",
   "nbconvert_exporter": "python",
   "pygments_lexer": "ipython3",
   "version": "3.12.3"
  }
 },
 "nbformat": 4,
 "nbformat_minor": 2
}
