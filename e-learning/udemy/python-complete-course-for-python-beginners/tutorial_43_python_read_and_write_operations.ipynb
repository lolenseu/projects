{
 "cells": [
  {
   "cell_type": "code",
   "execution_count": null,
   "metadata": {},
   "outputs": [],
   "source": [
    "f1 = open(\"employee.dat\")       # equivalent to 'r' or 'rt'\n",
    "f2 = open(\"pic.jpg\",'r+b')      # read and write in binary mode\n",
    "f3 = open(\"score.txt\",'w')      # write in text mode"
   ]
  },
  {
   "cell_type": "code",
   "execution_count": null,
   "metadata": {},
   "outputs": [],
   "source": [
    "f = open(\"employee.dat\", encoding='utf-8')\n",
    "# perform file operations\n",
    "f.close()"
   ]
  }
 ],
 "metadata": {
  "kernelspec": {
   "display_name": ".venv",
   "language": "python",
   "name": "python3"
  },
  "language_info": {
   "name": "python",
   "version": "3.12.3"
  }
 },
 "nbformat": 4,
 "nbformat_minor": 2
}
