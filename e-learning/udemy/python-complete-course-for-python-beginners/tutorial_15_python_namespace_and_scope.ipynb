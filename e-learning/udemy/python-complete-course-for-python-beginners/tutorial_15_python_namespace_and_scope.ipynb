{
 "cells": [
  {
   "cell_type": "code",
   "execution_count": null,
   "metadata": {},
   "outputs": [],
   "source": [
    "# Name (also called identifier) is simply a name given to objects.\n",
    "\n",
    "# We can get the address (in RAM) of some objects through the built-in fuction, id()\n",
    "# Note: You may get different value of id\n",
    "\n",
    "a = 2\n",
    "# Output: id(2) = 10919424\n",
    "print('id(2) =', id(2))\n",
    "\n",
    "# Output: id(a) = 10919424\n",
    "print('id(a) =', id(a))\n",
    "\n",
    "a = 2\n",
    "# Output: id(a) = 10919424\n",
    "print('id(a) =', id(a))\n",
    "\n",
    "a = a + 1\n",
    "# Output: id(a) = 10919456\n",
    "print('id(a) =', id(a))\n",
    "\n",
    "# Output: id(3) = 10919456\n",
    "print('id(3) =', id(3))\n",
    "\n",
    "b = 2\n",
    "# Output: id(2) = 10919424\n",
    "print('id(2) =', id(2))\n",
    "print('id(b) =', id(b))"
   ]
  },
  {
   "cell_type": "code",
   "execution_count": null,
   "metadata": {},
   "outputs": [],
   "source": [
    "# Scope\n",
    "def outer_function():\n",
    "    global a\n",
    "    a = 20\n",
    "\n",
    "    def inner_function():\n",
    "        global a\n",
    "        a = 30\n",
    "        print('a =', a)\n",
    "\n",
    "    inner_function()\n",
    "    print('a =', a)\n",
    "\n",
    "a = 10\n",
    "print('a =', a)\n",
    "outer_function()\n",
    "print('a =', a)"
   ]
  }
 ],
 "metadata": {
  "kernelspec": {
   "display_name": ".venv",
   "language": "python",
   "name": "python3"
  },
  "language_info": {
   "codemirror_mode": {
    "name": "ipython",
    "version": 3
   },
   "file_extension": ".py",
   "mimetype": "text/x-python",
   "name": "python",
   "nbconvert_exporter": "python",
   "pygments_lexer": "ipython3",
   "version": "3.12.3"
  }
 },
 "nbformat": 4,
 "nbformat_minor": 2
}
