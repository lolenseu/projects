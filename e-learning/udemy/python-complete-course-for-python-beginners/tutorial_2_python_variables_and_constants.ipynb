{
 "cells": [
  {
   "cell_type": "code",
   "execution_count": null,
   "metadata": {},
   "outputs": [],
   "source": [
    "# Declaring and assigning value constans\n",
    "PI = 3.14\n",
    "GRAVITY = 9.8\n",
    "print(PI)\n",
    "print(GRAVITY)"
   ]
  },
  {
   "cell_type": "code",
   "execution_count": null,
   "metadata": {},
   "outputs": [],
   "source": [
    "# Declaring and assigning value to a variable\n",
    "a = \"Apple\"\n",
    "print(a)\n",
    "\n",
    "# Changing value of a variable\n",
    "a = \"Aeroplane\"\n",
    "print(a)\n",
    "\n",
    "a = 100\n",
    "print(a)\n",
    "\n",
    "# Assigning multiple values to a variables\n",
    "b, c, d = 1, 2.5, \"Hello\"\n",
    "print(b, c, d)\n",
    "\n",
    "# Assigning same value to multiple variables\n",
    "b = c = d = 5\n",
    "print(b, c, d)"
   ]
  }
 ],
 "metadata": {
  "kernelspec": {
   "display_name": ".venv",
   "language": "python",
   "name": "python3"
  },
  "language_info": {
   "codemirror_mode": {
    "name": "ipython",
    "version": 3
   },
   "file_extension": ".py",
   "mimetype": "text/x-python",
   "name": "python",
   "nbconvert_exporter": "python",
   "pygments_lexer": "ipython3",
   "version": "3.12.3"
  }
 },
 "nbformat": 4,
 "nbformat_minor": 2
}
