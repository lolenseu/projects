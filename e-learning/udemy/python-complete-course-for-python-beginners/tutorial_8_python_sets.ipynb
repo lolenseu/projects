{
 "cells": [
  {
   "cell_type": "code",
   "execution_count": null,
   "metadata": {},
   "outputs": [],
   "source": [
    "# creating sets\n",
    "# set of integers\n",
    "my_set1 = {11, 33, 66, 55, 44, 22}\n",
    "print(my_set1)\n",
    "\n",
    "# set of mixed datatypes\n",
    "my_set2 = {101, \"Agnibha\", (21, 2, 1994)}\n",
    "print(my_set2)\n",
    "\n",
    "# duplicate values are not allowed\n",
    "my_set3 = {11, 22, 33, 33, 44, 22}\n",
    "print(my_set3)"
   ]
  },
  {
   "cell_type": "code",
   "execution_count": null,
   "metadata": {},
   "outputs": [],
   "source": [
    "# set cannot have mutable items\n",
    "# my_set4 = {1, 2, [3, 4]}  # This will cause a TypeError: unhashable type: 'list'\n",
    "\n",
    "# we can make set from a list\n",
    "my_set5 = set([1, 2, 3, 2])\n",
    "print(my_set5)\n",
    "print(type(my_set5))\n",
    "\n",
    "# we can make List from a set\n",
    "my_list1 = list({11, 22, 33, 44}) #Corrected: used {} for set creation\n",
    "print(my_list1)\n",
    "print(type(my_list1))"
   ]
  },
  {
   "cell_type": "code",
   "execution_count": null,
   "metadata": {},
   "outputs": [],
   "source": [
    "# operations on sets\n",
    "my_set1 = {11, 33, 44, 66, 55}\n",
    "print(my_set1)\n",
    "\n",
    "# 'set' object does not support indexing\n",
    "# my_set1[0]  # This would raise a TypeError\n",
    "\n",
    "# add an element\n",
    "my_set1.add(77)\n",
    "print(my_set1)\n",
    "\n",
    "# add multiple elements\n",
    "my_set1.update([88, 99, 22])\n",
    "print(my_set1)\n",
    "\n",
    "# add List and set\n",
    "my_set1.update([100, 102], {103, 104, 105})\n",
    "print(my_set1)"
   ]
  },
  {
   "cell_type": "code",
   "execution_count": null,
   "metadata": {},
   "outputs": [],
   "source": [
    "# remove and discard\n",
    "# initialize my_set\n",
    "my_set1 = {11, 33, 44, 55, 66}\n",
    "print(my_set1)\n",
    "\n",
    "# discard an element which is not present, no error\n",
    "my_set1.discard(4)\n",
    "print(my_set1)\n",
    "\n",
    "# remove an element which is not present, error raised\n",
    "# my_set1.remove(6)  # This will raise a KeyError\n",
    "print(my_set1)\n",
    "\n",
    "# discard an element\n",
    "my_set1.discard(44)\n",
    "print(my_set1)\n",
    "\n",
    "my_set1.remove(55)\n",
    "print(my_set1)"
   ]
  },
  {
   "cell_type": "code",
   "execution_count": null,
   "metadata": {},
   "outputs": [],
   "source": [
    "# using pop()\n",
    "# initialize my_set\n",
    "my_set1 = {11, 33, 44, 55, 66}  # Corrected: Used {} for set creation\n",
    "print(my_set1)\n",
    "\n",
    "# pop an element\n",
    "print(my_set1.pop())\n",
    "\n",
    "# pop another element\n",
    "print(my_set1.pop())\n",
    "\n",
    "print(my_set1)\n",
    "\n",
    "# clear my_set\n",
    "my_set1.clear()\n",
    "print(my_set1)"
   ]
  },
  {
   "cell_type": "code",
   "execution_count": null,
   "metadata": {},
   "outputs": [],
   "source": [
    "# set operations - union\n",
    "myset1 = {0, 1, 2, 3, 4, 5}\n",
    "myset2 = {4, 5, 6, 7, 8, 9}\n",
    "\n",
    "print(myset1)\n",
    "print(myset2)\n",
    "\n",
    "# use | operator for union\n",
    "print(myset1 | myset2)\n",
    "print(myset2 | myset1)\n",
    "print(myset1.union(myset2))\n",
    "print(myset2.union(myset1))"
   ]
  },
  {
   "cell_type": "code",
   "execution_count": null,
   "metadata": {},
   "outputs": [],
   "source": [
    "# set operations - intersection\n",
    "myset1 = {0, 1, 2, 3, 4, 5}\n",
    "myset2 = {4, 5, 6, 7, 8, 9}\n",
    "\n",
    "print(myset1)\n",
    "print(myset2)\n",
    "\n",
    "# use & operator for intersection\n",
    "print(myset1 & myset2)\n",
    "print(myset2 & myset1)\n",
    "print(myset1.intersection(myset2))\n",
    "print(myset2.intersection(myset1))"
   ]
  },
  {
   "cell_type": "code",
   "execution_count": null,
   "metadata": {},
   "outputs": [],
   "source": [
    "# set operations - set difference\n",
    "myset1 = {0, 1, 2, 3, 4, 5}\n",
    "myset2 = {4, 5, 6, 7, 8, 9}\n",
    "\n",
    "print(myset1)\n",
    "print(myset2)\n",
    "\n",
    "# use - operator for set difference\n",
    "print(myset1 - myset2)\n",
    "print(myset2 - myset1)\n",
    "print(myset1.difference(myset2))\n",
    "print(myset2.difference(myset1))"
   ]
  },
  {
   "cell_type": "code",
   "execution_count": null,
   "metadata": {},
   "outputs": [],
   "source": [
    "# set operations - symmetric difference\n",
    "myset1 = {0, 1, 2, 3, 4, 5}\n",
    "myset2 = {4, 5, 6, 7, 8, 9}\n",
    "\n",
    "print(myset1)\n",
    "print(myset2)\n",
    "\n",
    "# use ^ operator for symmetric difference\n",
    "print(myset1 ^ myset2)\n",
    "print(myset2 ^ myset1)\n",
    "print(myset1.symmetric_difference(myset2))\n",
    "print(myset2.symmetric_difference(myset1))"
   ]
  },
  {
   "cell_type": "code",
   "execution_count": null,
   "metadata": {},
   "outputs": [],
   "source": [
    "# set membership\n",
    "myset1 = {0, 1, 2, 3, 4, 5}\n",
    "print(2 in myset1)\n",
    "print(6 in myset1)\n",
    "print(2 not in myset1)\n",
    "print(6 not in myset1)"
   ]
  },
  {
   "cell_type": "code",
   "execution_count": null,
   "metadata": {},
   "outputs": [],
   "source": [
    "# iterating through a set\n",
    "for letter in set(\"welcome\"):\n",
    "    print(letter)"
   ]
  },
  {
   "cell_type": "code",
   "execution_count": null,
   "metadata": {},
   "outputs": [],
   "source": [
    "# built-in functions with set\n",
    "myset1 = {0, 1, 2, 3, 4, 5}\n",
    "print(len(myset1))\n",
    "print(max(myset1))\n",
    "print(min(myset1))\n",
    "print(sorted(myset1))"
   ]
  },
  {
   "cell_type": "code",
   "execution_count": null,
   "metadata": {},
   "outputs": [],
   "source": [
    "# python frozenset\n",
    "# Frozenset is a new class that has the characteristics\n",
    "# of a set, but its elements cannot be changed once assigned.\n",
    "# While tuples are immutable lists, frozensets are immutable sets.\n",
    "\n",
    "# initialize A and B\n",
    "myset1 = frozenset([1, 2, 3, 4])\n",
    "myset2 = frozenset([3, 4, 5, 6])\n",
    "print(myset1)\n",
    "print(myset2)\n",
    "print(myset1.union(myset2))\n",
    "print(myset1.intersection(myset2))\n",
    "print(myset1.difference(myset2))\n",
    "print(myset1.symmetric_difference(myset2))\n",
    "# myset1.add(10) # This will cause an AttributeError: 'frozenset' object has no attribute 'add'"
   ]
  }
 ],
 "metadata": {
  "kernelspec": {
   "display_name": ".venv",
   "language": "python",
   "name": "python3"
  },
  "language_info": {
   "codemirror_mode": {
    "name": "ipython",
    "version": 3
   },
   "file_extension": ".py",
   "mimetype": "text/x-python",
   "name": "python",
   "nbconvert_exporter": "python",
   "pygments_lexer": "ipython3",
   "version": "3.12.3"
  }
 },
 "nbformat": 4,
 "nbformat_minor": 2
}
