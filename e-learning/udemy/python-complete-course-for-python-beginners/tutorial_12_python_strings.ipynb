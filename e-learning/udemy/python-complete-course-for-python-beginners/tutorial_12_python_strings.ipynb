{
 "cells": [
  {
   "cell_type": "code",
   "execution_count": null,
   "metadata": {},
   "outputs": [],
   "source": [
    "# different ways to define a string in Python\n",
    "mystr1 = 'Welcome'\n",
    "print(mystr1)\n",
    "\n",
    "mystr2 = \"Welcome\"\n",
    "print(mystr2)\n",
    "\n",
    "mystr3 = '''Welcome'''  # Corrected: Triple single quotes\n",
    "print(mystr3)\n",
    "\n",
    "# triple quotes string can extend multiple lines\n",
    "mystr3 = \"\"\"Welcome\n",
    "to the world of\n",
    "Python Programming\"\"\"\n",
    "print(mystr3)"
   ]
  },
  {
   "cell_type": "code",
   "execution_count": null,
   "metadata": {},
   "outputs": [],
   "source": [
    "# accessing characters in a string\n",
    "mystr = 'language'\n",
    "print('mystr = ', mystr)\n",
    "\n",
    "print('mystr[0] = ', mystr[0])\n",
    "print('mystr[-1] = ', mystr[-1])\n",
    "print('mystr[1:5] = ', mystr[1:5])\n",
    "print('mystr[5:-2] = ', mystr[5:-2])\n",
    "# print('mystr[10] = ', mystr[10]) # This will cause an IndexError"
   ]
  },
  {
   "cell_type": "code",
   "execution_count": null,
   "metadata": {},
   "outputs": [],
   "source": [
    "# strings are immutable\n",
    "# but different strings can be assigned\n",
    "\n",
    "mystr = 'language'\n",
    "print(mystr)\n",
    "\n",
    "mystr = 'programming'\n",
    "print(mystr)\n",
    "\n",
    "# mystr[3] = 'x' # This will cause a TypeError: 'str' object does not support item assignment"
   ]
  },
  {
   "cell_type": "code",
   "execution_count": null,
   "metadata": {},
   "outputs": [],
   "source": [
    "# concatenation of strings\n",
    "mystr1 = 'Welcome'\n",
    "mystr2 = ' to all'\n",
    "\n",
    "# using +\n",
    "print('mystr1 + mystr2 = ', mystr1 + mystr2)\n",
    "\n",
    "# using *\n",
    "print('mystr1 * 3 = ', mystr1 * 3)"
   ]
  },
  {
   "cell_type": "code",
   "execution_count": null,
   "metadata": {},
   "outputs": [],
   "source": [
    "# iterating through a string\n",
    "letter_count = 0\n",
    "\n",
    "for letters in 'Hello World':\n",
    "    if letters == 'l': \n",
    "        letter_count += 1\n",
    "\n",
    "print(letter_count, 'times l letter has been found')"
   ]
  },
  {
   "cell_type": "code",
   "execution_count": null,
   "metadata": {},
   "outputs": [],
   "source": [
    "# string membership\n",
    "print('l' in \"hello\")\n",
    "print('l' not in \"hello\")\n",
    "print('b' in \"hello\")\n",
    "print('b' not in \"hello\")"
   ]
  },
  {
   "cell_type": "code",
   "execution_count": null,
   "metadata": {},
   "outputs": [],
   "source": [
    "# built-in functions\n",
    "mystr = 'university'\n",
    "\n",
    "# using enumerate()\n",
    "my_list_enumerate = list(enumerate(mystr))\n",
    "print('list(enumerate(mystr)) ', my_list_enumerate)\n",
    "\n",
    "# using character count\n",
    "print('len(mystr) = ', len(mystr))"
   ]
  },
  {
   "cell_type": "code",
   "execution_count": null,
   "metadata": {},
   "outputs": [],
   "source": [
    "# string formatting using escape sequence\n",
    "# print(\"tell me \"What's your name?\"\")  # This would cause a SyntaxError\n",
    "\n",
    "# using triple quotes\n",
    "print('''tell me \"What's your name?\"''')\n",
    "\n",
    "# escaping single quotes\n",
    "print('tell me \"What\\'s your name?\"')\n",
    "\n",
    "# escaping double quotes (This was repeated in the image, I'm keeping only one)\n",
    "print(\"tell me \\\"What's your name?\\\"\")"
   ]
  },
  {
   "cell_type": "code",
   "execution_count": null,
   "metadata": {},
   "outputs": [],
   "source": [
    "print(\"C:\\\\User\\\\user\\\\mydata.txt\")\n",
    "print(\"this line is having a new line \\ncharacter\")\n",
    "print(\"this line is having a tab \\t character\")\n",
    "print(\"ABC written in \\x41\\x42\\x43 (HEX) representation\")"
   ]
  },
  {
   "cell_type": "code",
   "execution_count": null,
   "metadata": {},
   "outputs": [],
   "source": [
    "# format() method\n",
    "# default(implicit) order\n",
    "\n",
    "default_order = \"{} {} and {}\".format('Today', 'is', 'Sunday')\n",
    "print(default_order)\n",
    "\n",
    "# order using positional argument\n",
    "positional_order = \"{1} {0} and {2}\".format('is', 'Today', 'Sunday')\n",
    "print(positional_order)\n",
    "\n",
    "# order using keyword argument\n",
    "keyword_order = \"{t} {i} and {s}\".format(i='is', t='Today', s='Sunday')\n",
    "print(keyword_order)"
   ]
  },
  {
   "cell_type": "code",
   "execution_count": null,
   "metadata": {},
   "outputs": [],
   "source": [
    "# formatting numbers\n",
    "print(\"Required binary representation of {0} is {0:b}\".format(120)) #Corrected {8} to {0}\n",
    "\n",
    "# formatting floats\n",
    "print(\"Exponent representation: {0:e}\".format(1566.345))\n",
    "\n",
    "# round off\n",
    "print(\"One third is: {0:.3f}\".format(1/3))"
   ]
  },
  {
   "cell_type": "code",
   "execution_count": null,
   "metadata": {},
   "outputs": [],
   "source": [
    "# string methods\n",
    "print(\"gOOD moRNing to all\".lower())\n",
    "print(\"gOOD moRNing to all\".upper())\n",
    "print(\"gOOD moRNing to all\".find('to'))\n",
    "print(\"gOOD moRNing to all\".replace('all', 'everybody'))"
   ]
  }
 ],
 "metadata": {
  "kernelspec": {
   "display_name": ".venv",
   "language": "python",
   "name": "python3"
  },
  "language_info": {
   "codemirror_mode": {
    "name": "ipython",
    "version": 3
   },
   "file_extension": ".py",
   "mimetype": "text/x-python",
   "name": "python",
   "nbconvert_exporter": "python",
   "pygments_lexer": "ipython3",
   "version": "3.12.3"
  }
 },
 "nbformat": 4,
 "nbformat_minor": 2
}
