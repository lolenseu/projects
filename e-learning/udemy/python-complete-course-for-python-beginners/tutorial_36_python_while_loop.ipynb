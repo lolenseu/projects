{
 "cells": [
  {
   "cell_type": "code",
   "execution_count": null,
   "metadata": {},
   "outputs": [],
   "source": [
    "# Using while loop\n",
    "i = 3\n",
    "while i > 0:\n",
    "    print(i)\n",
    "    i -= 1"
   ]
  },
  {
   "cell_type": "code",
   "execution_count": null,
   "metadata": {},
   "outputs": [],
   "source": [
    "i = 5\n",
    "while i < 10:\n",
    "    print(i)\n",
    "    i += 1\n",
    "else:\n",
    "    print(\"Displayed Successfully!\")"
   ]
  },
  {
   "cell_type": "code",
   "execution_count": null,
   "metadata": {},
   "outputs": [],
   "source": [
    "# A program to display a pattern using Loops\n",
    "n = int(input(\"Please enter the number of layers...\"))\n",
    "i = 1\n",
    "while i <= n:\n",
    "    j = 1\n",
    "    while j <= n - i:\n",
    "        print(\".\",end=\"\")\n",
    "        j += 1\n",
    "    j = 1\n",
    "    while j <= 2 * i - 1:\n",
    "        print(\"*\",end=\"\")\n",
    "        j += 1\n",
    "    print()\n",
    "    i += 1"
   ]
  },
  {
   "cell_type": "code",
   "execution_count": null,
   "metadata": {},
   "outputs": [],
   "source": [
    "n = int(input(\"Please enter the odd number of layers...\"))\n",
    "m = ( n + 1 ) / 2\n",
    "i = 1\n",
    "\n",
    "while i <= n:\n",
    "    if i > m:\n",
    "        b = n-i\n",
    "        s = 2 * ( i - m ) + 1\n",
    "    else:\n",
    "        b = i - 1\n",
    "        s = 2 * ( m - i ) + 1\n",
    "\n",
    "    j = 1\n",
    "    while j <= b:\n",
    "        print(\".\", end=\"\")\n",
    "        j += 1\n",
    "\n",
    "    j = 1\n",
    "    while j <= s:\n",
    "        print(\"*\", end=\"\")\n",
    "        j += 1\n",
    "\n",
    "    print()\n",
    "    i += 1"
   ]
  },
  {
   "cell_type": "code",
   "execution_count": null,
   "metadata": {},
   "outputs": [],
   "source": [
    "n = int(input(\"Please enter the odd number of layers...\"))\n",
    "m = (n + 1) // 2 \n",
    "i = 1\n",
    "\n",
    "while i <= n:\n",
    "    if i <= m:\n",
    "        b = m - i\n",
    "        s = 2 * i - 1\n",
    "    else:\n",
    "        b = i - m\n",
    "        s = 2 * (n - i) + 1\n",
    "\n",
    "    print(\".\" * b, end=\"\")\n",
    "\n",
    "    j = 1\n",
    "    while j <= s:\n",
    "        print(\"*\", end=\"\")\n",
    "        j += 1\n",
    "\n",
    "    print(\".\" * b)\n",
    "    i += 1"
   ]
  }
 ],
 "metadata": {
  "kernelspec": {
   "display_name": ".venv",
   "language": "python",
   "name": "python3"
  },
  "language_info": {
   "codemirror_mode": {
    "name": "ipython",
    "version": 3
   },
   "file_extension": ".py",
   "mimetype": "text/x-python",
   "name": "python",
   "nbconvert_exporter": "python",
   "pygments_lexer": "ipython3",
   "version": "3.12.3"
  }
 },
 "nbformat": 4,
 "nbformat_minor": 2
}
