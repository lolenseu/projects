{
 "cells": [
  {
   "cell_type": "code",
   "execution_count": null,
   "metadata": {},
   "outputs": [],
   "source": [
    "# integer\n",
    "value1 = 100\n",
    "print(type(value1))\n",
    "print(isinstance(value1, int))\n",
    "print(isinstance(value1, float))\n",
    "print(isinstance(value1, complex))"
   ]
  },
  {
   "cell_type": "code",
   "execution_count": null,
   "metadata": {},
   "outputs": [],
   "source": [
    "# float\n",
    "valeu2 = 100.24\n",
    "print(type(valeu2))\n",
    "print(isinstance(valeu2, int))\n",
    "print(isinstance(valeu2, float))\n",
    "print(isinstance(valeu2, complex))"
   ]
  },
  {
   "cell_type": "code",
   "execution_count": null,
   "metadata": {},
   "outputs": [],
   "source": [
    "# complex\n",
    "vlaue3 = 50 + 6j\n",
    "print(type(vlaue3))\n",
    "print(isinstance(vlaue3, int))\n",
    "print(isinstance(vlaue3, float))\n",
    "print(isinstance(vlaue3, complex))"
   ]
  },
  {
   "cell_type": "code",
   "execution_count": null,
   "metadata": {},
   "outputs": [],
   "source": [
    "# number representation with binary, hexadecimal and octal\n",
    "print(0b1101)\n",
    "print(0xab)\n",
    "print(0o23)\n",
    "\n",
    "# or \n",
    "print(0B1101)\n",
    "print(0XAB)\n",
    "print(0O23)"
   ]
  },
  {
   "cell_type": "code",
   "execution_count": null,
   "metadata": {},
   "outputs": [],
   "source": [
    "# addition of int and float is float\n",
    "print(10 + 33.4)"
   ]
  },
  {
   "cell_type": "code",
   "execution_count": null,
   "metadata": {},
   "outputs": [],
   "source": [
    "# type conversion\n",
    "print(int(10.5))\n",
    "print(int(-10.5))\n",
    "print(float(10))\n",
    "print(float(-10))\n",
    "print(complex(10))\n",
    "print(complex(10.5))\n",
    "print(complex(-10))"
   ]
  },
  {
   "cell_type": "code",
   "execution_count": null,
   "metadata": {},
   "outputs": [],
   "source": [
    "# python decimal\n",
    "data1 = 0.1 + 0.2\n",
    "print(data1)\n",
    "data2 = 1.20 * 2.50\n",
    "print(data2)\n",
    "\n",
    "# python decimal module\n",
    "from decimal import Decimal\n",
    "data1 = Decimal('0.1') + Decimal('0.2')\n",
    "print(data1)\n",
    "data2 = Decimal('1.20') * Decimal('2.50')\n",
    "print(data2)"
   ]
  },
  {
   "cell_type": "code",
   "execution_count": null,
   "metadata": {},
   "outputs": [],
   "source": [
    "# python fraction\n",
    "from fractions import Fraction\n",
    "print(Fraction(1.5))\n",
    "print(Fraction(5))\n",
    "print(Fraction(1, 5))"
   ]
  },
  {
   "cell_type": "code",
   "execution_count": null,
   "metadata": {},
   "outputs": [],
   "source": [
    "# python math module\n",
    "import math\n",
    "print(math.pi)\n",
    "print(math.cos(10))\n",
    "print(math.log(10))\n",
    "print(math.log10(10))\n",
    "print(math.exp(10))\n",
    "print(math.factorial(5))\n",
    "print(math.sinh(10))\n",
    "\n",
    "# or without import math\n",
    "print(abs(-10))"
   ]
  },
  {
   "cell_type": "code",
   "execution_count": null,
   "metadata": {},
   "outputs": [],
   "source": [
    "# python random module\n",
    "import random\n",
    "print(\"Random number  ->\", random.randrange(5,15))\n",
    "print(\"Random number  ->\", random.randrange(5,15))\n",
    "print(\"Random number  ->\", random.randrange(5,15))\n",
    "print(\"Random number  ->\", random.randrange(5,15))\n",
    "\n",
    "day = ['monday', 'tuesday', 'wednesday', 'thursday', 'friday', 'saturday', 'sunday']\n",
    "print(day)\n",
    "print(\"Random day ->\", random.choice(day))\n",
    "\n",
    "random.shuffle(day)\n",
    "print(day)\n",
    "\n",
    "\n",
    "# print random element\n",
    "print(random.random())"
   ]
  },
  {
   "cell_type": "markdown",
   "metadata": {},
   "source": []
  }
 ],
 "metadata": {
  "kernelspec": {
   "display_name": "Python 3",
   "language": "python",
   "name": "python3"
  },
  "language_info": {
   "codemirror_mode": {
    "name": "ipython",
    "version": 3
   },
   "file_extension": ".py",
   "mimetype": "text/x-python",
   "name": "python",
   "nbconvert_exporter": "python",
   "pygments_lexer": "ipython3",
   "version": "3.12.3"
  }
 },
 "nbformat": 4,
 "nbformat_minor": 2
}
