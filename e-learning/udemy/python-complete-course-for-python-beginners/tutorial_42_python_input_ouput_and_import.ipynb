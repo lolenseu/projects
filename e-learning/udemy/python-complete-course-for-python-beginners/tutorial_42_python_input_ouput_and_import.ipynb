{
 "cells": [
  {
   "cell_type": "code",
   "execution_count": null,
   "metadata": {},
   "outputs": [],
   "source": [
    "# print function and it's usage\n",
    "print('This sentence is output to the screen')\n",
    "# Output: This sentence is output to the screen\n",
    "\n",
    "a = 5\n",
    "\n",
    "print('The value of a is', a)\n",
    "# Output: The value of a is 5\n",
    "\n",
    "print(1,2,3,4)\n",
    "# Output: 1 2 3 4"
   ]
  },
  {
   "cell_type": "code",
   "execution_count": null,
   "metadata": {},
   "outputs": [],
   "source": [
    "print(1,2,3,4, sep='*')\n",
    "# Output: 1*2*3*4\n",
    "\n",
    "print(1,2,3,4, sep='#', end='&')\n",
    "# Output: 1#2#3#4&\n",
    "\n",
    "print()\n",
    "print('I love {} and {}'.format('bread', 'butter'))\n",
    "# Output: I love bread and butter\n",
    "\n",
    "print('I love {1} and {0}'.format('bread', 'butter'))\n",
    "# Output: I love butter and bread"
   ]
  },
  {
   "cell_type": "code",
   "execution_count": null,
   "metadata": {},
   "outputs": [],
   "source": [
    "# input\n",
    "x = input(\"Please enter any number :\")\n",
    "print(x)"
   ]
  },
  {
   "cell_type": "code",
   "execution_count": null,
   "metadata": {},
   "outputs": [],
   "source": [
    "# Importing module\n",
    "import math         # mainly done at the top of the program\n",
    "x = 100\n",
    "print(math.pow(int(x),2))"
   ]
  }
 ],
 "metadata": {
  "kernelspec": {
   "display_name": ".venv",
   "language": "python",
   "name": "python3"
  },
  "language_info": {
   "name": "python",
   "version": "3.12.3"
  }
 },
 "nbformat": 4,
 "nbformat_minor": 2
}
