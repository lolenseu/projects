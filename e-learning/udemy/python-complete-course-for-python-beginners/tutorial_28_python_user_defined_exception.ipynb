{
 "cells": [
  {
   "cell_type": "code",
   "execution_count": null,
   "metadata": {},
   "outputs": [],
   "source": [
    "class VotersElligibility(Exception):\n",
    "    def __init__(self):\n",
    "        super()\n",
    "\n",
    "try:\n",
    "    age = 12\n",
    "    print(\"age is \" + str(age))\n",
    "    if age < 18:\n",
    "        raise VotersElligibility\n",
    "except VotersElligibility:\n",
    "    print(\"Age is less than 18\")\n",
    "else:\n",
    "    print(\"Age is greater than or equal to 18\")\n",
    "finally:\n",
    "    print(\"End of the program\")"
   ]
  },
  {
   "cell_type": "code",
   "execution_count": null,
   "metadata": {},
   "outputs": [],
   "source": [
    "class VotersElligibility(Exception):\n",
    "    def __init__(self):\n",
    "        super()\n",
    "\n",
    "try:\n",
    "    age = \"12\"\n",
    "    print(\"age is \" + str(age))\n",
    "    if age < 18:\n",
    "        raise VotersElligibility\n",
    "except VotersElligibility:\n",
    "    print(\"Age is less than 18\")\n",
    "except TypeError:\n",
    "    print(\"Age in not numeric\")\n",
    "else:\n",
    "    print(\"Age is greater than or equal to 18\")\n",
    "finally:\n",
    "    print(\"End of the program\")"
   ]
  }
 ],
 "metadata": {
  "kernelspec": {
   "display_name": ".venv",
   "language": "python",
   "name": "python3"
  },
  "language_info": {
   "codemirror_mode": {
    "name": "ipython",
    "version": 3
   },
   "file_extension": ".py",
   "mimetype": "text/x-python",
   "name": "python",
   "nbconvert_exporter": "python",
   "pygments_lexer": "ipython3",
   "version": "3.12.3"
  }
 },
 "nbformat": 4,
 "nbformat_minor": 2
}
