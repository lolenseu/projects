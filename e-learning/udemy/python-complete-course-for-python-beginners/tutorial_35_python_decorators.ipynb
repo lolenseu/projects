{
 "cells": [
  {
   "cell_type": "code",
   "execution_count": null,
   "metadata": {},
   "outputs": [],
   "source": [
    "# Demonstration\n",
    "def make_decorated(func):\n",
    "    print(\"I got decorated\")\n",
    "\n",
    "    def inner_function():\n",
    "        print(\"I got decorated\")\n",
    "        func()\n",
    "    return inner_function\n",
    "\n",
    "def simple_func():\n",
    "    print(\"I am a simple function\")\n",
    "\n",
    "decor = make_decorated(simple_func)\n",
    "decor()"
   ]
  },
  {
   "cell_type": "code",
   "execution_count": null,
   "metadata": {},
   "outputs": [],
   "source": [
    "# Demonstration\n",
    "def make_decorated(func):\n",
    "    print(\"I got decorated\")\n",
    "\n",
    "    def inner_function():\n",
    "        print(\"I got decorated\")\n",
    "        func()\n",
    "    return inner_function\n",
    "\n",
    "@make_decorated\n",
    "def simple_func():\n",
    "    print(\"I am a simple function\")\n",
    "    \n",
    "simple_func()"
   ]
  },
  {
   "cell_type": "code",
   "execution_count": null,
   "metadata": {},
   "outputs": [],
   "source": [
    "# Another example\n",
    "def my_smart_div(func):\n",
    "    def inner_func(x, y):\n",
    "        print(\"I am dividing \", x, \" and \", y)\n",
    "        if y == 0:\n",
    "            print(\"Oops! Division by ZERO is illegal...!!!\")\n",
    "            return  # Important: Return None in case of division by zero\n",
    "        return func(x, y)\n",
    "    return inner_func\n",
    "\n",
    "@my_smart_div\n",
    "def go_divide(a, b):        # Generally, we decorate a function and reassign it as,\n",
    "    return a / b            # go_divide = my_smart_div(go_divide)\n",
    "\n",
    "print(go_divide(20, 2))\n",
    "print(go_divide(20, 0))"
   ]
  }
 ],
 "metadata": {
  "kernelspec": {
   "display_name": ".venv",
   "language": "python",
   "name": "python3"
  },
  "language_info": {
   "codemirror_mode": {
    "name": "ipython",
    "version": 3
   },
   "file_extension": ".py",
   "mimetype": "text/x-python",
   "name": "python",
   "nbconvert_exporter": "python",
   "pygments_lexer": "ipython3",
   "version": "3.12.3"
  }
 },
 "nbformat": 4,
 "nbformat_minor": 2
}
