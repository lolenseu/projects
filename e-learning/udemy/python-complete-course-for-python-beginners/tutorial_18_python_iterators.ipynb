{
 "cells": [
  {
   "cell_type": "code",
   "execution_count": null,
   "metadata": {},
   "outputs": [],
   "source": [
    "# defining a list\n",
    "our_list = [44, 77, 11, 33]\n",
    "\n",
    "# get an iterator using iter() method\n",
    "our_iter = iter(our_list)\n",
    "\n",
    "# iterate through it using next() method\n",
    "\n",
    "# prints 44\n",
    "print(next(our_iter))\n",
    "\n",
    "# prints 77\n",
    "print(next(our_iter))\n",
    "\n",
    "# next(obj) is same as calling obj.__next__() method\n",
    "\n",
    "# prints 11\n",
    "print(our_iter.__next__()) # Corrected: __next__ (double underscores)\n",
    "\n",
    "# prints 33\n",
    "print(our_iter.__next__())\n",
    "\n",
    "## This will raise error, no items left\n",
    "# next(our_iter)"
   ]
  },
  {
   "cell_type": "code",
   "execution_count": null,
   "metadata": {},
   "outputs": [],
   "source": [
    "# Creating a custom iterator\n",
    "class Pow_of_Two:\n",
    "    \"\"\"Class to implement an iterator\n",
    "    of powers of two\"\"\"\n",
    "\n",
    "    def __init__(self, max=0):\n",
    "        self.max = max\n",
    "\n",
    "    def __iter__(self):\n",
    "        self.n = 0\n",
    "        return self\n",
    "\n",
    "    def __next__(self):\n",
    "        if self.n <= self.max:\n",
    "            result = 2**self.n\n",
    "            self.n += 1\n",
    "            return result\n",
    "        else:\n",
    "            raise StopIteration\n",
    "        \n",
    "print(Pow_of_Two.__doc__)\n",
    "a = Pow_of_Two(4)\n",
    "i = iter(a)\n",
    "print(next(i))\n",
    "print(next(i))\n",
    "print(next(i))"
   ]
  },
  {
   "cell_type": "code",
   "execution_count": null,
   "metadata": {},
   "outputs": [],
   "source": [
    "# Creating a infinite custom iterrator\n",
    "class Infinite_Iter:\n",
    "    \"\"\"Infinite iterator to return all\n",
    "    odd numbers\"\"\"\n",
    "\n",
    "    def __iter__(self):\n",
    "        self.num = 1\n",
    "        return self\n",
    "\n",
    "    def __next__(self):\n",
    "        num = self.num\n",
    "        self.num += 2\n",
    "        return num\n",
    "\n",
    "i = Infinite_Iter()\n",
    "a = iter(i) # iter() is redundant here, as the class is already an iterator\n",
    "print(next(a))\n",
    "print(next(a))\n",
    "print(next(a))"
   ]
  }
 ],
 "metadata": {
  "kernelspec": {
   "display_name": ".venv",
   "language": "python",
   "name": "python3"
  },
  "language_info": {
   "name": "python",
   "version": "3.12.3"
  }
 },
 "nbformat": 4,
 "nbformat_minor": 2
}
