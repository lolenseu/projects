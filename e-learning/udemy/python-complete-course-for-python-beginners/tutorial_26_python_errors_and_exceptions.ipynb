{
 "cells": [
  {
   "cell_type": "code",
   "execution_count": null,
   "metadata": {},
   "outputs": [],
   "source": [
    "try:\n",
    "    # The code which can give rise to an exception is written here.\n",
    "    a = \"hi\" # if number I am here... will print\n",
    "    b = int(a)\n",
    "    print(\"I am here...\")\n",
    "except:\n",
    "    print(\"Exception caught!\")"
   ]
  },
  {
   "cell_type": "code",
   "execution_count": null,
   "metadata": {},
   "outputs": [],
   "source": [
    "# Catching specific exception\n",
    "try:\n",
    "    a = 5\n",
    "    b = 0\n",
    "    c = a / b\n",
    "except ZeroDivisionError:\n",
    "    print(\"Division by zero is not possible\")"
   ]
  },
  {
   "cell_type": "code",
   "execution_count": null,
   "metadata": {},
   "outputs": [],
   "source": [
    "# Exceptions can be raised also\n",
    "try:\n",
    "    raise TypeError\n",
    "except TypeError:\n",
    "    print(\"TypeError Exception caught!\")"
   ]
  },
  {
   "cell_type": "code",
   "execution_count": null,
   "metadata": {},
   "outputs": [],
   "source": [
    "# try..finally\n",
    "try:\n",
    "    print(\"In try block\")\n",
    "    # raise TypeError  (This line is commented out)\n",
    "except:\n",
    "    print(\"In except block\")\n",
    "finally:\n",
    "    print(\"In the finally block\")"
   ]
  }
 ],
 "metadata": {
  "kernelspec": {
   "display_name": ".venv",
   "language": "python",
   "name": "python3"
  },
  "language_info": {
   "name": "python",
   "version": "3.12.3"
  }
 },
 "nbformat": 4,
 "nbformat_minor": 2
}
