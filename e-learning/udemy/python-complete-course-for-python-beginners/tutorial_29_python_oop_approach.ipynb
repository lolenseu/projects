{
 "cells": [
  {
   "cell_type": "code",
   "execution_count": 1,
   "metadata": {},
   "outputs": [],
   "source": [
    "# Creating Class and Object in Python\n",
    "class myBird:\n",
    "\n",
    "    def __init__(self):\n",
    "        print(\"myBird class constructor is executing...\")\n",
    "\n",
    "    def whatType(self):\n",
    "        print(\"I am a Bird...\")\n",
    "\n",
    "    def canSwim(self):\n",
    "        print(\"I can Swim...\")"
   ]
  },
  {
   "cell_type": "code",
   "execution_count": 2,
   "metadata": {},
   "outputs": [],
   "source": [
    "class myParrot:\n",
    "    # class attribute\n",
    "    species = \"bird\"\n",
    "\n",
    "    # instance attribute\n",
    "    def __init__(self, name, age):\n",
    "        print(\"myParrot class constructor is executing...\")\n",
    "        self.name = name\n",
    "        self.age = age\n",
    "\n",
    "    def canSing(self, thisSong):\n",
    "        return \"{} can sing {}...\".format(self.name, thisSong)"
   ]
  },
  {
   "cell_type": "code",
   "execution_count": 3,
   "metadata": {},
   "outputs": [],
   "source": [
    "# myPenguin class inheriting the attributes from the myBird class\n",
    "class myPenguin(myBird):\n",
    "    def __init__(self):\n",
    "        # call super() function\n",
    "        super().__init__()\n",
    "        print(\"Penguin is ready\")\n",
    "\n",
    "    def whoisThis(self):\n",
    "        print(\"I am Penguin\")\n",
    "\n",
    "    def canRun(self):\n",
    "        print(\"I can run faster\")"
   ]
  },
  {
   "cell_type": "code",
   "execution_count": null,
   "metadata": {},
   "outputs": [],
   "source": [
    "# instantiate the Parrot class\n",
    "mp1 = myParrot(\"MyParrot1\", 10)\n",
    "mp2 = myParrot(\"MyParrot2\", 15)\n",
    "\n",
    "# access the class attributes\n",
    "print(\"MP1 is a {}\".format(mp1.__class__.species))\n",
    "print(\"MP2 is also a {}\".format(mp2.__class__.species))\n",
    "\n",
    "# access the instance attributes\n",
    "print(\"{} is {} years of age\".format(mp1.name, mp1.age))\n",
    "print(\"{} is {} years of age\".format(mp2.name, mp2.age))\n",
    "print(mp1.canSing(\"Chirp\"))\n",
    "\n",
    "# Accessing the child class's attributes (Inheritance)\n",
    "pg1 = myPenguin()\n",
    "pg1.whoisThis()\n",
    "pg1.canSwim()\n",
    "pg1.canRun()"
   ]
  },
  {
   "cell_type": "code",
   "execution_count": null,
   "metadata": {},
   "outputs": [],
   "source": [
    "# Data Encapsulation\n",
    "class personalComputer:\n",
    "    def __init__(self): \n",
    "        self.maxComputerPrice = 20000\n",
    "\n",
    "    def mySell(self):\n",
    "        print(\"Selling Price: {}\".format(self.maxComputerPrice))\n",
    "\n",
    "    def setMaxComputerPrice(self, price):\n",
    "        self.maxComputerPrice = price\n",
    "\n",
    "pc = personalComputer()\n",
    "pc.mySell()\n",
    "\n",
    "# change the price (Directly accessing the attribute - Not Encapsulation)\n",
    "pc.maxComputerPrice = 30000\n",
    "pc.mySell()\n",
    "\n",
    "# using setter function (Proper Encapsulation)\n",
    "pc.setMaxComputerPrice(40000)\n",
    "pc.mySell()"
   ]
  }
 ],
 "metadata": {
  "kernelspec": {
   "display_name": ".venv",
   "language": "python",
   "name": "python3"
  },
  "language_info": {
   "codemirror_mode": {
    "name": "ipython",
    "version": 3
   },
   "file_extension": ".py",
   "mimetype": "text/x-python",
   "name": "python",
   "nbconvert_exporter": "python",
   "pygments_lexer": "ipython3",
   "version": "3.12.3"
  }
 },
 "nbformat": 4,
 "nbformat_minor": 2
}
