{
 "cells": [
  {
   "cell_type": "code",
   "execution_count": null,
   "metadata": {},
   "outputs": [],
   "source": [
    "# Operator Overloading\n",
    "class myPoint:\n",
    "    def __init__(self, x=0, y=0):\n",
    "        self.x = x\n",
    "        self.y = y\n",
    "\n",
    "    def __str__(self):\n",
    "        return \"({0},{1})\".format(self.x, self.y)\n",
    "\n",
    "    # Overloading + operator\n",
    "    def __add__(self, other):\n",
    "        x = self.x + other.x\n",
    "        y = self.y + other.y\n",
    "        return myPoint(x, y)\n",
    "\n",
    "    # Overloading < Operator\n",
    "    def __lt__(self, other):\n",
    "        self_mag = (self.x**2) + (self.y**2)\n",
    "        other_mag = (other.x**2) + (other.y**2)\n",
    "        return self_mag < other_mag"
   ]
  },
  {
   "cell_type": "code",
   "execution_count": null,
   "metadata": {},
   "outputs": [],
   "source": [
    "p1 = myPoint(1, 2)\n",
    "p2 = myPoint(4, 5)\n",
    "\n",
    "print(p1)\n",
    "print(p2)\n",
    "\n",
    "print()\n",
    "print(p1 < p2)\n",
    "\n",
    "print(p1 + p2)\n",
    "print()\n",
    "\n",
    "print(p1.__lt__(p2))\n",
    "print(p1.__add__(p2))"
   ]
  }
 ],
 "metadata": {
  "kernelspec": {
   "display_name": ".venv",
   "language": "python",
   "name": "python3"
  },
  "language_info": {
   "name": "python",
   "version": "3.12.3"
  }
 },
 "nbformat": 4,
 "nbformat_minor": 2
}
