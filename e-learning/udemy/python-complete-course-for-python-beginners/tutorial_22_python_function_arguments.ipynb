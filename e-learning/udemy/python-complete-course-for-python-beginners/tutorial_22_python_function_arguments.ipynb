{
 "cells": [
  {
   "cell_type": "code",
   "execution_count": null,
   "metadata": {},
   "outputs": [],
   "source": [
    "def findMax(a, b): # Function taking arguments and returning a value\n",
    "    if a > b:\n",
    "        return a\n",
    "    else:\n",
    "        return b\n",
    "\n",
    "print(\"Max number between 10 and 20 is \", findMax(10, 20))"
   ]
  },
  {
   "cell_type": "code",
   "execution_count": null,
   "metadata": {},
   "outputs": [],
   "source": [
    "def hello(name, msg = \", how are you?\"): # Function with default parameter\n",
    "    print(\"Hello \", name, msg)\n",
    "\n",
    "hello(\"Agnibha\", \", have a nice day.\")\n",
    "hello(\"Agnibha\")"
   ]
  },
  {
   "cell_type": "code",
   "execution_count": null,
   "metadata": {},
   "outputs": [],
   "source": [
    "def sumAll(*args): # Function with arbitrary arguments\n",
    "    sum = 0\n",
    "    for i in args:\n",
    "        sum += i\n",
    "    return sum\n",
    "\n",
    "print(\"Sum of all the integers between 1-5 is \", sumAll(1, 2, 3, 4, 5))"
   ]
  },
  {
   "cell_type": "code",
   "execution_count": null,
   "metadata": {},
   "outputs": [],
   "source": [
    "def defaultArg(a, b, c):\n",
    "    print(\"a = {}, b = {}, c = {}...\".format(a,b,c))\n",
    "    \n",
    "defaultArg(10, 20, 30)"
   ]
  }
 ],
 "metadata": {
  "kernelspec": {
   "display_name": ".venv",
   "language": "python",
   "name": "python3"
  },
  "language_info": {
   "name": "python",
   "version": "3.12.3"
  }
 },
 "nbformat": 4,
 "nbformat_minor": 2
}
