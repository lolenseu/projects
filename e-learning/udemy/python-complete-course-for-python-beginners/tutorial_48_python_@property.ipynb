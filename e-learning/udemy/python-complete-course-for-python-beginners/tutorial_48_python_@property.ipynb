{
 "cells": [
  {
   "cell_type": "code",
   "execution_count": null,
   "metadata": {},
   "outputs": [],
   "source": [
    "#Demonstrating the use of the property\n",
    "class Temp_Celsius:\n",
    "    def __init__(self, temperature = 0):\n",
    "        print(\"Assigning temperature value\")\n",
    "        self._temperature = temperature\n",
    "\n",
    "    def convert_to_fahrenheit(self):\n",
    "        return (self._temperature * 1.8) + 32\n",
    "\n",
    "    def get_temperature(self):\n",
    "        print(\"Getting temperature value\")\n",
    "        return self._temperature\n",
    "\n",
    "    def set_temperature(self, value):\n",
    "        if value < -273:\n",
    "            raise ValueError(\"Temperature below -273 is not possible\")\n",
    "        print(\"Setting temperature value\")\n",
    "        self._temperature = value\n",
    "\n",
    "    # property() is a built-in function, creates and returns a property object\n",
    "    # property(fget=None, fset=None, fdel=None, doc=None)\n",
    "    # property object has three methods, getter(), setter(), and delete()\n",
    "    # temperature = property(get_temperature, set_temperature)\n",
    "    # make empty property\n",
    "    temperature = property()\n",
    "    # assign fget\n",
    "    temperature = temperature.getter(get_temperature)\n",
    "    # assign fset\n",
    "    temperature = temperature.setter(set_temperature)\n",
    "\n",
    "c = Temp_Celsius(5)\n",
    "print(c.temperature)\n",
    "\n",
    "c.temperature=100\n",
    "print(c.temperature)"
   ]
  },
  {
   "cell_type": "code",
   "execution_count": null,
   "metadata": {},
   "outputs": [],
   "source": [
    "#Demonstrating the use of the property as a decorator\n",
    "class Celsius:\n",
    "    def __init__(self, temperature = 0):\n",
    "        self._temperature = temperature\n",
    "\n",
    "    def to_fahrenheit(self):\n",
    "        return (self._temperature * 1.8) + 32\n",
    "\n",
    "    @property\n",
    "    def temperature(self):\n",
    "        print(\"Getting value\")\n",
    "        return self._temperature\n",
    "\n",
    "    @temperature.setter\n",
    "    def temperature(self, value):\n",
    "        if value < -273:\n",
    "            raise ValueError(\"Temperature below -273 is not possible\")\n",
    "        print(\"Setting value\")\n",
    "        self._temperature = value\n",
    "        \n",
    "c = Temp_Celsius(5)\n",
    "print(c.temperature)\n",
    "\n",
    "c.temperature=100\n",
    "print(c.temperature)"
   ]
  }
 ],
 "metadata": {
  "kernelspec": {
   "display_name": ".venv",
   "language": "python",
   "name": "python3"
  },
  "language_info": {
   "name": "python",
   "version": "3.12.3"
  }
 },
 "nbformat": 4,
 "nbformat_minor": 2
}
