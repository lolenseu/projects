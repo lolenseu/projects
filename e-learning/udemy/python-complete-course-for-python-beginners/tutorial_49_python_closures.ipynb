{
 "cells": [
  {
   "cell_type": "code",
   "execution_count": null,
   "metadata": {},
   "outputs": [],
   "source": [
    "#Defining a closure function\n",
    "def print_message(message):\n",
    "    # This is the outer enclosing function\n",
    "\n",
    "    def print_message_inner():\n",
    "        # This is the nested function\n",
    "        print(message)\n",
    "\n",
    "    return print_message_inner # this got changed\n",
    "\n",
    "#Now Let's try calling this function.\n",
    "# Output: Hello\n",
    "another = print_message(\"Hello\")\n",
    "another()"
   ]
  },
  {
   "cell_type": "code",
   "execution_count": null,
   "metadata": {},
   "outputs": [],
   "source": [
    "#Another demonstration of the closure function\n",
    "def multiplier_outer(n):\n",
    "    def multiplier_inner(x):\n",
    "        return x * n\n",
    "    return multiplier_inner\n",
    "\n",
    "# Multiplier of 3\n",
    "times3 = multiplier_outer(3)\n",
    "\n",
    "# Multiplier of 5\n",
    "times5 = multiplier_outer(5)\n",
    "\n",
    "# Output: 27\n",
    "print(times3(9))\n",
    "\n",
    "# Output: 15\n",
    "print(times5(3))\n",
    "\n",
    "# Output: 30\n",
    "print(times5(times3(2)))"
   ]
  }
 ],
 "metadata": {
  "kernelspec": {
   "display_name": ".venv",
   "language": "python",
   "name": "python3"
  },
  "language_info": {
   "name": "python",
   "version": "3.12.3"
  }
 },
 "nbformat": 4,
 "nbformat_minor": 2
}
