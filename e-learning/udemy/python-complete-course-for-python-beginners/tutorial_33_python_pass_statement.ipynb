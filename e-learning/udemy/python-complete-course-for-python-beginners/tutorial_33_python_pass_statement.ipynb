{
 "cells": [
  {
   "cell_type": "code",
   "execution_count": null,
   "metadata": {},
   "outputs": [],
   "source": [
    "# pass is just a placeholder for\n",
    "# functionality to be added Later.\n",
    "sequence = {'p', 'a', 's', 's'}\n",
    "for val in sequence:\n",
    "    pass\n",
    "print(\"End of the program...\")"
   ]
  }
 ],
 "metadata": {
  "kernelspec": {
   "display_name": ".venv",
   "language": "python",
   "name": "python3"
  },
  "language_info": {
   "name": "python",
   "version": "3.12.3"
  }
 },
 "nbformat": 4,
 "nbformat_minor": 2
}
