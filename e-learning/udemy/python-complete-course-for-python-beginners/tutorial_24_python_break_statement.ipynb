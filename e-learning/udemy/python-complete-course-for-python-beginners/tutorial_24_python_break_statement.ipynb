{
 "cells": [
  {
   "cell_type": "code",
   "execution_count": null,
   "metadata": {},
   "outputs": [],
   "source": [
    "import random as r\n",
    "\n",
    "rand_num = r.randrange(1, 20)  # Generating a random number between 1 and 19\n",
    "\n",
    "print(\"Number to be guessed: \", rand_num)\n",
    "\n",
    "i = 1\n",
    "while True:\n",
    "    print(\"Number Guessed: \", i)\n",
    "    if (i == rand_num):  # If the number guessed is correct then this block will be executed\n",
    "        print(\"Random Number has been guessed successfully!\")\n",
    "        break  # Break statement stops and exits from the loop\n",
    "    i += 1\n",
    "    \n",
    "print(\"End of the program...\")"
   ]
  }
 ],
 "metadata": {
  "kernelspec": {
   "display_name": ".venv",
   "language": "python",
   "name": "python3"
  },
  "language_info": {
   "name": "python",
   "version": "3.12.3"
  }
 },
 "nbformat": 4,
 "nbformat_minor": 2
}
