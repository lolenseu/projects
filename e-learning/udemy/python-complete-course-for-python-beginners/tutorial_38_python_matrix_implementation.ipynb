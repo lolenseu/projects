{
 "cells": [
  {
   "cell_type": "code",
   "execution_count": null,
   "metadata": {},
   "outputs": [],
   "source": [
    "# a is 2-D matrix with integers\n",
    "a = [['Roy', 80, 75, 85, 90, 95],\n",
    "     ['John', 75, 80, 75, 85, 100],\n",
    "     ['Dave', 80, 80, 80, 90, 95]]\n",
    "\n",
    "# b is a nested List but not a matrix\n",
    "b = [['Roy', 80, 75, 85, 90, 95],\n",
    "     ['John', 75, 80, 75],\n",
    "     ['Dave', 80, 80, 80, 90, 95]]\n",
    "\n",
    "print(a)\n",
    "print()\n",
    "print(b)"
   ]
  },
  {
   "cell_type": "code",
   "execution_count": null,
   "metadata": {},
   "outputs": [],
   "source": [
    "# Creating a dynamic matrix using for Loop in python\n",
    "n = 3\n",
    "m = 4\n",
    "a = [0] * n\n",
    "print(a)\n",
    "\n",
    "for i in range(n):\n",
    "    a[i] = [0] * m\n",
    "print(a)"
   ]
  },
  {
   "cell_type": "code",
   "execution_count": null,
   "metadata": {},
   "outputs": [],
   "source": [
    "# Accessing elements from a matrix\n",
    "print(a)\n",
    "print(a[0])\n",
    "print(a[0][1])\n",
    "print(a[1][2])"
   ]
  },
  {
   "cell_type": "code",
   "execution_count": null,
   "metadata": {},
   "outputs": [],
   "source": [
    "# Negative Indexing\n",
    "print(a)\n",
    "print(a[-1])\n",
    "print(a[-1][-2])\n",
    "print(a[-2][-3])"
   ]
  },
  {
   "cell_type": "code",
   "execution_count": null,
   "metadata": {},
   "outputs": [],
   "source": [
    "# Change elements of a matrix in python\n",
    "print(a)\n",
    "b = a[0]\n",
    "print(b)\n",
    "\n",
    "b[1] = 75\n",
    "print(b)\n",
    "print(a)\n",
    "\n",
    "a[2] = ['Sam', 82, 79, 88, 97, 99]\n",
    "print(a)"
   ]
  }
 ],
 "metadata": {
  "kernelspec": {
   "display_name": ".venv",
   "language": "python",
   "name": "python3"
  },
  "language_info": {
   "name": "python",
   "version": "3.12.3"
  }
 },
 "nbformat": 4,
 "nbformat_minor": 2
}
