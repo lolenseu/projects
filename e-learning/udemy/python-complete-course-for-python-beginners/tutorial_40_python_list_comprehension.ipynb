{
 "cells": [
  {
   "cell_type": "code",
   "execution_count": null,
   "metadata": {},
   "outputs": [],
   "source": [
    "#Iterating a string through a for loop and adding the letters to a list\n",
    "h_letters = []\n",
    "\n",
    "for letter in 'human':\n",
    "    h_letters.append(letter)\n",
    "\n",
    "print(h_letters)"
   ]
  },
  {
   "cell_type": "code",
   "execution_count": null,
   "metadata": {},
   "outputs": [],
   "source": [
    "# Using comprehension\n",
    "h_letters = [ letter for letter in 'human' ]\n",
    "\n",
    "print(h_letters)"
   ]
  },
  {
   "cell_type": "code",
   "execution_count": null,
   "metadata": {},
   "outputs": [],
   "source": [
    "#List Comprehensions vs Lambda Function\n",
    "h_letters = list(map(lambda x: x, 'human'))\n",
    "\n",
    "print(h_letters)"
   ]
  },
  {
   "cell_type": "code",
   "execution_count": null,
   "metadata": {},
   "outputs": [],
   "source": [
    "#If with List comprehension\n",
    "number_list = [x for x in range(20) if x % 2 == 0]\n",
    "\n",
    "print(number_list)"
   ]
  },
  {
   "cell_type": "code",
   "execution_count": null,
   "metadata": {},
   "outputs": [],
   "source": [
    "# Nested If with List comprehension\n",
    "num_list = [y for y in range(100) if y % 2 == 0 if y % 5 == 0]\n",
    "\n",
    "print(num_list)"
   ]
  },
  {
   "cell_type": "code",
   "execution_count": null,
   "metadata": {},
   "outputs": [],
   "source": [
    "# If..Else with list comprehension\n",
    "obj = [\"Even\" if i % 2 == 0 else \"Odd\" for i in range(10)]\n",
    "\n",
    "print(obj)"
   ]
  },
  {
   "cell_type": "code",
   "execution_count": null,
   "metadata": {},
   "outputs": [],
   "source": [
    "# Transposing a matrix using List comprehension\n",
    "matrix = [[1, 2], [3, 4], [5, 6], [7, 8]]\n",
    "\n",
    "transpose = [[row[i] for row in matrix] for i in range(2)]\n",
    "print(transpose)"
   ]
  }
 ],
 "metadata": {
  "kernelspec": {
   "display_name": ".venv",
   "language": "python",
   "name": "python3"
  },
  "language_info": {
   "name": "python",
   "version": "3.12.3"
  }
 },
 "nbformat": 4,
 "nbformat_minor": 2
}
