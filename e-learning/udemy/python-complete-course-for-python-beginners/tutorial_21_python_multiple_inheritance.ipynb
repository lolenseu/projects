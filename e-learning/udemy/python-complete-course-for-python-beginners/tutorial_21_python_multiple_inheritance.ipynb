{
 "cells": [
  {
   "cell_type": "code",
   "execution_count": null,
   "metadata": {},
   "outputs": [],
   "source": [
    "# Multiple Inheritance\n",
    "class Base1:\n",
    "    pass\n",
    "\n",
    "class Base2:\n",
    "    pass\n",
    "\n",
    "class MultiDerived(Base1, Base2):\n",
    "    pass"
   ]
  },
  {
   "cell_type": "code",
   "execution_count": null,
   "metadata": {},
   "outputs": [],
   "source": [
    "# Multiple Inheritance\n",
    "class Base1:\n",
    "    def funcBase1(self):\n",
    "        print(\"funcBase1() is executing...\")\n",
    "\n",
    "class Base2:\n",
    "    def funcBase2(self):\n",
    "        print(\"funcBase2() is executing...\")\n",
    "\n",
    "class Base3:\n",
    "    def funcBase3(self):\n",
    "        print(\"funcBase3() is executing...\")\n",
    "\n",
    "class MultiDerived(Base1, Base2, Base3):\n",
    "    def funcMultiDerived(self):\n",
    "        print(\"funcMultiDerived() is executing...\")"
   ]
  }
 ],
 "metadata": {
  "kernelspec": {
   "display_name": ".venv",
   "language": "python",
   "name": "python3"
  },
  "language_info": {
   "name": "python",
   "version": "3.12.3"
  }
 },
 "nbformat": 4,
 "nbformat_minor": 2
}
